{
 "cells": [
  {
   "cell_type": "markdown",
   "metadata": {},
   "source": [
    "<div class=\"alert alert-block alert-info\">\n",
    "    <h1 align=\"center\">Random Forest from scratch</h1>\n",
    "    <h5 align=\"center\">Mohammad Talaei (https://www.linkedin.com/in/mohammad-talaei-mt/)</h5>\n",
    "</div>"
   ]
  },
  {
   "cell_type": "markdown",
   "metadata": {},
   "source": [
    "> A basic from-scratch version of Random Forest."
   ]
  },
  {
   "cell_type": "markdown",
   "metadata": {},
   "source": [
    "Random Forest is a parallel ensembling algorithm in which each estimator (tree) receives different samples and features. This leads to different error distributions for each estimator which in turn makes the learning process more efficient and generalizable. The final prediction is the mean of all trees' predictions. The parallel nature of this algorithm makes it super fast in comparison with boosting algorithms like XGBoost."
   ]
  },
  {
   "cell_type": "code",
   "execution_count": 1,
   "metadata": {},
   "outputs": [],
   "source": [
    "import math\n",
    "import pandas as pd\n",
    "import numpy as np\n",
    "import matplotlib.pyplot as plt\n",
    "from sklearn.model_selection import train_test_split\n",
    "from sklearn.metrics import r2_score"
   ]
  },
  {
   "cell_type": "markdown",
   "metadata": {},
   "source": [
    "## Tree Ensemble Class"
   ]
  },
  {
   "cell_type": "markdown",
   "metadata": {},
   "source": [
    "In this section, we need to develop the Bagging (Bootstrap Aggregation) Ensembling algorithm. The key point is that we do not need to implement the Decision Tree at this stage. We assume that we already have it, and we focus on the ensembling class. Here, we only implemented subsampling among different RF parameters."
   ]
  },
  {
   "cell_type": "code",
   "execution_count": 2,
   "metadata": {},
   "outputs": [],
   "source": [
    "class TreeEnsemble():\n",
    "    def __init__(self,x,y,n_trees,sample_sz,min_leaf=5):\n",
    "        np.random.seed(42)\n",
    "        self.x,self.y=x.reset_index().drop(['index'],axis=1),y.reset_index().drop(['index'],axis=1)\n",
    "        self.sample_sz,self.min_leaf = sample_sz,min_leaf\n",
    "        self.trees=[self.create_tree() for i in range(n_trees)]\n",
    "    def create_tree(self):\n",
    "        rnd_idxs=np.random.permutation(len(self.y))[:self.sample_sz]\n",
    "        return DecisionTree(self.x.iloc[rnd_idxs],\n",
    "                            self.y.reindex(rnd_idxs),\n",
    "                            idxs=np.array(range(self.sample_sz)), min_leaf=self.min_leaf)\n",
    "    def predict(self, x):\n",
    "        # axis=0 will average it across the list\n",
    "        return np.mean([t.predict(x) for t in self.trees], axis=0)\n",
    "    \n",
    "def std_agg(cnt,s1,s2): return math.sqrt(((s2/cnt) - (s1/cnt)**2))"
   ]
  },
  {
   "cell_type": "markdown",
   "metadata": {},
   "source": [
    "## Decision Tree Class\n",
    "For each tree, we find the features with better information gain (reducing entropy). To this end, we need to find optimal split points for each feature. There will be more descriptions for this section in the future."
   ]
  },
  {
   "cell_type": "code",
   "execution_count": 3,
   "metadata": {},
   "outputs": [],
   "source": [
    "class DecisionTree():\n",
    "    def __init__(self,x,y, idxs=None,min_leaf=5):\n",
    "        if idxs is None: idxs=np.arange(len(y))\n",
    "        self.x,self.y,self.idxs,self.min_leaf=x,y,idxs,min_leaf\n",
    "        self.n,self.c = len(idxs), x.shape[1]\n",
    "        self.val= np.mean(y.to_numpy()[idxs])\n",
    "        self.shir=y.isnull().sum()\n",
    "        self.score= float('inf')\n",
    "        self.find_varsplit()\n",
    "        \n",
    "    def find_varsplit(self):\n",
    "        for i in range(self.c): self.find_better_split(i)\n",
    "        if self.score == float('inf'): return\n",
    "        x= self.split_col\n",
    "        lhs=np.nonzero(x<=self.split)[0]\n",
    "        rhs=np.nonzero(x>self.split)[0]\n",
    "        self.lhs=DecisionTree(self.x,self.y,self.idxs[lhs])\n",
    "        self.rhs=DecisionTree(self.x,self.y,self.idxs[rhs])\n",
    "    \n",
    "    def find_better_split(self, var_idx):\n",
    "        x, y= self.x.to_numpy()[self.idxs,var_idx], self.y.to_numpy()[self.idxs]\n",
    "        sort_idx=np.argsort(x)\n",
    "    \n",
    "        sort_y,sort_x = y[sort_idx], x[sort_idx]\n",
    "        rhs_cnt, rhs_sum, rhs_sum2 = self.n,  sort_y.sum(), (sort_y**2).sum()\n",
    "        lhs_cnt, lhs_sum, lhs_sum2 =  0, 0., 0.\n",
    "    \n",
    "        for i in range(0,self.n-self.min_leaf-1):\n",
    "            xi, yi= sort_x[i], sort_y[i]\n",
    "            rhs_cnt -=1; lhs_cnt += 1\n",
    "            rhs_sum -= yi; lhs_sum += yi\n",
    "            rhs_sum2-=yi**2; lhs_sum2 +=yi**2 \n",
    "        \n",
    "            if i<self.min_leaf or xi==sort_x[i+1]:\n",
    "                continue\n",
    "            \n",
    "            rhs_std= std_agg(rhs_cnt, rhs_sum, rhs_sum2)\n",
    "            lhs_std= std_agg(lhs_cnt, lhs_sum, lhs_sum2)\n",
    "            corr_score= rhs_std+lhs_std\n",
    "            if corr_score< self.score:\n",
    "                self.score, self.var_idx, self.split = corr_score, var_idx, xi    \n",
    "            \n",
    "    def predict(self,x): return np.array([self.predict_row(xi) for xi in x.to_numpy()])\n",
    "    \n",
    "    def predict_row(self,xi):\n",
    "        if self.is_leaf: return self.val\n",
    "        t = self.lhs if xi[self.var_idx]<=self.split else self.rhs\n",
    "        return t.predict_row(xi)\n",
    "    \n",
    "    @property\n",
    "    def split_name(self): return self.x.columns[self.var_idx]\n",
    "    \n",
    "    @property\n",
    "    def split_col(self): return self.x.values[self.idxs,self.var_idx]\n",
    "    \n",
    "    @property\n",
    "    def is_leaf(self): return self.score== float('inf')\n",
    "    \n",
    "    def __repr__(self):\n",
    "        s= f'n: {self.n}; val: {self.val}'\n",
    "        if not self.is_leaf:\n",
    "            s+= f'; score:{self.score}; split:{self.split}; var:{self.split_name}' \n",
    "        return s"
   ]
  },
  {
   "cell_type": "code",
   "execution_count": 6,
   "metadata": {},
   "outputs": [],
   "source": [
    "plt.style.use('seaborn')\n",
    "PATH_DATA = \"./data/\"\n",
    "house = pd.read_csv(PATH_DATA + \"boston_house_prices.csv\", header=1)\n",
    "x = house.drop(house.MEDV.name, axis=1)\n",
    "y = house.MEDV\n",
    "x_train, x_test, y_train, y_test = train_test_split(x,y,shuffle=True,random_state=101,test_size=0.3)"
   ]
  },
  {
   "cell_type": "code",
   "execution_count": 7,
   "metadata": {},
   "outputs": [
    {
     "data": {
      "text/plain": [
       "0.746876960824918"
      ]
     },
     "execution_count": 7,
     "metadata": {},
     "output_type": "execute_result"
    }
   ],
   "source": [
    "tree=TreeEnsemble(x_train, y_train,20,250); r2_score(y_test,tree.predict(x_test))"
   ]
  },
  {
   "cell_type": "markdown",
   "metadata": {},
   "source": [
    "OK, 0.74, not so bad!"
   ]
  },
  {
   "cell_type": "code",
   "execution_count": 14,
   "metadata": {},
   "outputs": [
    {
     "data": {
      "image/png": "[encoded data removed]",
      "text/plain": [
       "<Figure size 576x396 with 1 Axes>"
      ]
     },
     "metadata": {},
     "output_type": "display_data"
    }
   ],
   "source": [
    "plt.scatter(tree.predict(x_test),y_test);"
   ]
  },
  {
   "cell_type": "markdown",
   "metadata": {},
   "source": [
    "## Using Sklearn Random Forest\n",
    "in order to compare models, we use the Random Forest of Scikit Learn library. "
   ]
  },
  {
   "cell_type": "code",
   "execution_count": 8,
   "metadata": {},
   "outputs": [
    {
     "data": {
      "text/plain": [
       "0.8569015535244505"
      ]
     },
     "execution_count": 8,
     "metadata": {},
     "output_type": "execute_result"
    }
   ],
   "source": [
    "from sklearn.ensemble import RandomForestRegressor\n",
    "rf = RandomForestRegressor(n_estimators=20)\n",
    "rf.fit(x_train, y_train)\n",
    "rf.score(x_test, y_test)"
   ]
  },
  {
   "cell_type": "markdown",
   "metadata": {},
   "source": [
    "The result is evidently more accurate. The reason is that in the from_scratch version, we only implemented subsampling among different RF parameters. But the sklearn version is the complete version of Random Forest. We can implement more parameters to see the results."
   ]
  }
 ],
 "metadata": {
  "kernelspec": {
   "display_name": "Python 3.7.3 ('base')",
   "language": "python",
   "name": "python3"
  },
  "language_info": {
   "codemirror_mode": {
    "name": "ipython",
    "version": 3
   },
   "file_extension": ".py",
   "mimetype": "text/x-python",
   "name": "python",
   "nbconvert_exporter": "python",
   "pygments_lexer": "ipython3",
   "version": "3.7.3"
  },
  "vscode": {
   "interpreter": {
    "hash": "a0da2d4ec81b6896a8bbe2157825a118769be514d9d1599d2023767124c40acb"
   }
  }
 },
 "nbformat": 4,
 "nbformat_minor": 4
}
